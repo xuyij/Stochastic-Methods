{
 "cells": [
  {
   "cell_type": "code",
   "execution_count": 20,
   "metadata": {},
   "outputs": [],
   "source": [
    "import numpy as np\n",
    "from matplotlib import pyplot as plt"
   ]
  },
  {
   "cell_type": "markdown",
   "metadata": {},
   "source": [
    "## a"
   ]
  },
  {
   "cell_type": "code",
   "execution_count": 21,
   "metadata": {},
   "outputs": [],
   "source": [
    "def exact():\n",
    "    # analytical result\n",
    "    f=1/626*(125-125*np.exp(-5)*np.cos(1/5)+5*np.exp(-5)*np.sin(1/5))\n",
    "    return f"
   ]
  },
  {
   "cell_type": "code",
   "execution_count": 22,
   "metadata": {},
   "outputs": [],
   "source": [
    "def g(x):\n",
    "    g=np.cos(x/5)*np.exp(-5*x)\n",
    "    return g"
   ]
  },
  {
   "cell_type": "code",
   "execution_count": 23,
   "metadata": {},
   "outputs": [],
   "source": [
    "n=10**6\n",
    "sample=np.random.uniform(0,1,n)\n",
    "expectation=np.mean(g(sample))\n",
    "var=1/(n-1)*np.sum((g(sample)-expectation)**2)"
   ]
  },
  {
   "cell_type": "code",
   "execution_count": 24,
   "metadata": {},
   "outputs": [
    {
     "name": "stdout",
     "output_type": "stream",
     "text": [
      "exact result= 0.19837258551912546\n",
      "MC result= 0.1986264839737901\n",
      "error= -0.00025389845466464167\n",
      "MC variance= 0.060725561112346484\n",
      "MC standard deviation= 0.24642556911235183\n"
     ]
    }
   ],
   "source": [
    "print('exact result=',exact())\n",
    "print('MC result=',expectation)\n",
    "print('error=',exact()-expectation)\n",
    "print('MC variance=',var)\n",
    "print('MC standard deviation=',np.sqrt(var))"
   ]
  },
  {
   "cell_type": "code",
   "execution_count": 25,
   "metadata": {},
   "outputs": [
    {
     "name": "stdout",
     "output_type": "stream",
     "text": [
      "percentage error= -0.0012799069690008294\n",
      "1.2422360099177792\n"
     ]
    }
   ],
   "source": [
    "print('percentage error=',(exact()-expectation)/exact())\n",
    "print(np.sqrt(var)/exact())"
   ]
  },
  {
   "cell_type": "code",
   "execution_count": 26,
   "metadata": {},
   "outputs": [
    {
     "name": "stdout",
     "output_type": "stream",
     "text": [
      "MC result= 0.20035788229323795\n",
      "MC variance= 0.062092313755532744\n",
      "MC standard deviation= 0.24918329349202514\n",
      "percentage error= 0.010007919032345767\n"
     ]
    }
   ],
   "source": [
    "n=10**4\n",
    "sample=np.random.uniform(0,1,n)\n",
    "expectation=np.mean(g(sample))\n",
    "var=1/(n-1)*np.sum((g(sample)-expectation)**2)\n",
    "\n",
    "print('MC result=',expectation)\n",
    "print('MC variance=',var)\n",
    "print('MC standard deviation=',np.sqrt(var))\n",
    "print('percentage error=',np.abs(exact()-expectation)/exact())"
   ]
  },
  {
   "cell_type": "code",
   "execution_count": 27,
   "metadata": {},
   "outputs": [
    {
     "name": "stdout",
     "output_type": "stream",
     "text": [
      "MC result= 0.19805534993610685\n",
      "MC variance= 0.060451105292351544\n",
      "MC standard deviation= 0.24586806480783865\n",
      "percentage error= 0.0015991906451610946\n"
     ]
    }
   ],
   "source": [
    "n=10**6\n",
    "sample=np.random.uniform(0,1,n)\n",
    "expectation=np.mean(g(sample))\n",
    "var=1/(n-1)*np.sum((g(sample)-expectation)**2)\n",
    "\n",
    "print('MC result=',expectation)\n",
    "print('MC variance=',var)\n",
    "print('MC standard deviation=',np.sqrt(var))\n",
    "print('percentage error=',np.abs(exact()-expectation)/exact())"
   ]
  },
  {
   "cell_type": "markdown",
   "metadata": {},
   "source": [
    "## b"
   ]
  },
  {
   "cell_type": "code",
   "execution_count": 28,
   "metadata": {},
   "outputs": [],
   "source": [
    "## generate samples. \n",
    "n=10**6\n",
    "I1=(1-np.exp(-5))/5\n",
    "\n",
    "raw_sample=np.random.uniform(0,1,n)\n",
    "sample=-1/5*np.log(1-5*I1*raw_sample)"
   ]
  },
  {
   "cell_type": "code",
   "execution_count": 29,
   "metadata": {},
   "outputs": [],
   "source": [
    "expectation=I1*np.mean(np.cos(sample/5))\n",
    "var=1/(n-1)*np.sum((np.cos(sample/5)-np.mean(np.cos(sample/5)))**2)"
   ]
  },
  {
   "cell_type": "code",
   "execution_count": 30,
   "metadata": {},
   "outputs": [
    {
     "name": "stdout",
     "output_type": "stream",
     "text": [
      "importance sampling result= 0.19837252938031003\n",
      "standard deviation= 0.002575887724807865\n",
      "importance sampling error= 5.61388154296516e-08\n",
      "number of samples= 1000000\n"
     ]
    }
   ],
   "source": [
    "print('importance sampling result=',expectation)\n",
    "print('standard deviation=',np.sqrt(var))\n",
    "print('importance sampling error=',np.abs(exact()-expectation))\n",
    "print('number of samples=',sample.shape[0])"
   ]
  },
  {
   "cell_type": "code",
   "execution_count": 31,
   "metadata": {},
   "outputs": [
    {
     "name": "stdout",
     "output_type": "stream",
     "text": [
      "percentage error= 2.8299684294954735e-07\n",
      "0.002579521281276885\n"
     ]
    }
   ],
   "source": [
    "print('percentage error=',np.abs(exact()-expectation)/exact())\n",
    "print(I1*np.sqrt(var)/exact())"
   ]
  },
  {
   "cell_type": "code",
   "execution_count": 32,
   "metadata": {},
   "outputs": [],
   "source": [
    "n=1\n",
    "I1=(1-np.exp(-5))/5\n",
    "\n",
    "raw_sample=np.random.uniform(0,1,n)\n",
    "sample=-1/5*np.log(1-5*I1*raw_sample)\n",
    "#sample=raw_sample[raw_sample<=1.0]"
   ]
  },
  {
   "cell_type": "code",
   "execution_count": 33,
   "metadata": {},
   "outputs": [
    {
     "name": "stdout",
     "output_type": "stream",
     "text": [
      "importance sampling result= 0.19865064744990102\n",
      "percentage error= 0.0014017155145097174\n",
      "number of samples= 1\n"
     ]
    }
   ],
   "source": [
    "expectation=I1*np.mean(np.cos(sample/5))\n",
    "print('importance sampling result=',expectation)\n",
    "print('percentage error=',np.abs(exact()-expectation)/exact())\n",
    "print('number of samples=',sample.shape[0])"
   ]
  },
  {
   "cell_type": "code",
   "execution_count": 40,
   "metadata": {},
   "outputs": [],
   "source": [
    "n=7\n",
    "I1=(1-np.exp(-5))/5\n",
    "\n",
    "raw_sample=np.random.uniform(0,1,n)\n",
    "sample=-1/5*np.log(1-5*I1*raw_sample)\n",
    "#sample=raw_sample[raw_sample<=1.0]"
   ]
  },
  {
   "cell_type": "code",
   "execution_count": 41,
   "metadata": {},
   "outputs": [
    {
     "name": "stdout",
     "output_type": "stream",
     "text": [
      "importance sampling result= 0.19812625283414942\n",
      "percentage error= 0.0012417677792090215\n",
      "number of samples= 7\n"
     ]
    }
   ],
   "source": [
    "expectation=I1*np.mean(np.cos(sample/5))\n",
    "print('importance sampling result=',expectation)\n",
    "print('percentage error=',np.abs(exact()-expectation)/exact())\n",
    "print('number of samples=',sample.shape[0])"
   ]
  },
  {
   "cell_type": "code",
   "execution_count": null,
   "metadata": {},
   "outputs": [],
   "source": []
  },
  {
   "cell_type": "code",
   "execution_count": null,
   "metadata": {},
   "outputs": [],
   "source": []
  }
 ],
 "metadata": {
  "kernelspec": {
   "display_name": "Python 3",
   "language": "python",
   "name": "python3"
  },
  "language_info": {
   "codemirror_mode": {
    "name": "ipython",
    "version": 3
   },
   "file_extension": ".py",
   "mimetype": "text/x-python",
   "name": "python",
   "nbconvert_exporter": "python",
   "pygments_lexer": "ipython3",
   "version": "3.7.7"
  }
 },
 "nbformat": 4,
 "nbformat_minor": 4
}
